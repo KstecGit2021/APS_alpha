{
 "cells": [
  {
   "cell_type": "code",
   "execution_count": 1,
   "id": "willing-adaptation",
   "metadata": {},
   "outputs": [
    {
     "name": "stderr",
     "output_type": "stream",
     "text": [
      "C:\\Users\\chdus\\anaconda3\\lib\\site-packages\\sklearn\\ensemble\\weight_boosting.py:29: DeprecationWarning: numpy.core.umath_tests is an internal NumPy module and should not be imported. It will be removed in a future NumPy release.\n",
      "  from numpy.core.umath_tests import inner1d\n"
     ]
    }
   ],
   "source": [
    "import numpy as np\n",
    "import pandas as pd\n",
    "from sklearn.ensemble import RandomForestRegressor\n",
    "import matplotlib\n",
    "import matplotlib.font_manager as fm\n",
    "import matplotlib.pyplot as plt\n",
    "fm.get_fontconfig_fonts()\n",
    "\n",
    "read_data_file = 'new_DAESANG_DATA.csv'\n",
    "read_col_info_file = 'input_LSTM_데이터유형.csv' # 시계열로 변환이 필요한 예측주기는 클러스터에서 사용하지 않지만, 필요시 사용 가능.\n",
    "read_model_info_file = 'input_AutoML_설정옵션.csv'"
   ]
  },
  {
   "cell_type": "markdown",
   "id": "trained-greeting",
   "metadata": {},
   "source": [
    "## 시나리오 4. 유사제품 예측(클러스터링)\n",
    "\n",
    "- 제품 유사도 산출\n",
    "- input  : 전체데이터셋 (TD/RD 구별 없음)\n",
    "- output : abs_sum은 0 ~ 1까지 (소수단위)\n",
    "\n",
    "  *0으로 갈 수록 제품들의 속성이 유사, 1과 가까울 수록 제품들의 속성이 다름*\n",
    "  \n",
    "  **=> 0이면 제품의 속성이 전부 일치**"
   ]
  },
  {
   "cell_type": "code",
   "execution_count": 2,
   "id": "innocent-pulse",
   "metadata": {},
   "outputs": [],
   "source": [
    "def read_data_info (read_data_file, read_col_info_file, read_model_info_file):\n",
    "    \n",
    "    # input data\n",
    "    data = pd.read_csv(read_data_file) # 년도와 월을 split해서 new data 생성\n",
    "\n",
    "    # input role info\n",
    "    role_info = pd.read_csv(read_col_info_file, encoding ='cp949') # 모델링 할 때 사용할 x, y, month\n",
    "    x_val = role_info.loc[role_info['Role']=='x', 'col_name'].tolist() # x변수 다중리스트형태\n",
    "    y_val = role_info.loc[role_info['Role']=='y', 'col_name'].tolist()[0] # y변수는 단일\n",
    "    predic_period = role_info.loc[role_info['예측주기']=='P', 'col_name'].tolist()[0] # month값은 단일\n",
    "    \n",
    "    # col info\n",
    "    dummy_list = role_info.loc[role_info['col_info']=='STR', 'col_name'].tolist() \n",
    "    id_val = role_info.loc[role_info['col_info']=='STR_KEY', 'col_name'].tolist()[0] # key는 자동으로 id 인식\n",
    "    \n",
    "    # input model info 모델과 예측달 정하기\n",
    "    model_info = pd.read_csv(read_model_info_file)\n",
    "    id_name = model_info['예측id'][0]\n",
    "\n",
    "    return data, dummy_list, x_val, y_val, id_val, predic_period, id_name"
   ]
  },
  {
   "cell_type": "code",
   "execution_count": 3,
   "id": "dress-frost",
   "metadata": {},
   "outputs": [],
   "source": [
    "def make_datasample (data, dummy_list, x_val, y_val, id_val, id_name):\n",
    "    \n",
    "    new_data = data[1:] ; X = new_data[x_val] ; y_df = new_data[[y_val]].fillna(0).astype('int32') # 전처리 \n",
    "    # col속성을 제외한 데이터의 값으로만 X,y 값 나눔 필요\n",
    "    \n",
    "    # 더미화 할 col정보\n",
    "    ele = [x for x in dummy_list if x in X] # 더미화가 필요한 col중에 X에 들어가지 않는 것이 있을 수 있으므로 진행\n",
    "    new_df = new_data.drop_duplicates([id_val]) # 유일한 PART의 값들 나열\n",
    "    new_df = new_df.reset_index() # 재 index\n",
    "    new_df = new_df.drop('index', axis=1) # index 드롭\n",
    "    new_df2 = pd.get_dummies(data=new_df, columns=ele) # 더미화\n",
    "    \n",
    "    X_df = pd.get_dummies(data=X, columns=ele) # X의 val전체 더미화\n",
    "    \n",
    "    # line이 될 정보 따로 저장\n",
    "    dummies_col_list = X_df.columns # 더미화 된 컬럼들의 이름\n",
    "    id_list = new_data[id_val].drop_duplicates() # id의 값들 리스트\n",
    "    \n",
    "    test = new_df2[new_df2[id_val] == (id_name) ] # id_list 참고해서 샘플링\n",
    "    \n",
    "    return X_df, y_df, new_df2, test, dummies_col_list,id_list"
   ]
  },
  {
   "cell_type": "markdown",
   "id": "infrared-finance",
   "metadata": {},
   "source": [
    "## 랜덤포레스트를 이용한 중요도 및 거리 계산"
   ]
  },
  {
   "cell_type": "code",
   "execution_count": 4,
   "id": "vanilla-color",
   "metadata": {},
   "outputs": [],
   "source": [
    "def make_distance_df (test, new_df2, X_df ,y_df, dummies_col_list, id_list, id_val):\n",
    "    \n",
    "    \"\"\"\n",
    "    함수설명\n",
    "    --------\n",
    "    1. 거리 계산을 통한 유사도 제품 찾기\n",
    "    2. 랜덤포레스트 회귀모델로 중요도 고려\n",
    "\n",
    "    parameters\n",
    "    ----------\n",
    "    test      : 예측하고자하는 키\n",
    "    new_df2    : 키 별로 재 구성한 데이터셋\n",
    "    X_df      : 사용자가 지정한 x변수\n",
    "    y_df    : 사용자가 지정한 y변수\n",
    "    dummies_col_list     : 더미화 된 컬럼들의 이름\n",
    "    id_list     : 키의 리스트 \n",
    "    id_val    : id. 우리가 사용하는 키 값\n",
    "    \n",
    "    return\n",
    "    ------\n",
    "    new_df2 : 거리와 중요도 까지 고려되어 새로운 컬럼을 생성하여 재구성된 데이터셋\n",
    "    \"\"\"\n",
    "    \n",
    "    # 피쳐 중요도 계산\n",
    "    \n",
    "    # Feature importance\n",
    "    # 랜덤포레스트회귀 모형을 활용하여, 라벨들간의 Gini Importance 의 값들을 가지는 \n",
    "    # Feature Importance array 를 추출 \n",
    "    # model select\n",
    "\n",
    "    RFR = RandomForestRegressor(n_jobs=-1, random_state=1)\n",
    "    RFR.fit(X_df ,y_df )\n",
    "    feature_im = RFR.feature_importances_\n",
    "    \n",
    "    \n",
    "    # 거리 계산\n",
    "    # test id = 2026376 의 X 값과 , X_Train 의 X 값의 거리 계산 \n",
    "    \n",
    "    '''\n",
    "    Distance 계산공식 \n",
    "    sigma{abs(test_Xn - train_Xn)}\n",
    "    '''\n",
    "    \n",
    "    blank_two_dimension = []\n",
    "    for id in id_list:\n",
    "        train001 = new_df2[new_df2[id_val] == id]\n",
    "\n",
    "        blank = []\n",
    "        for i in dummies_col_list:\n",
    "            t1 = test[str(i)].values\n",
    "            t1 = int(t1)\n",
    "\n",
    "            v1 = train001[str(i)].values\n",
    "            v1 = int(v1)\n",
    "\n",
    "            ss = abs(t1-v1)\n",
    "            blank.append(ss)\n",
    "          \n",
    "        # 중요도와 거리를 고려해 weighted 값\n",
    "        weigthed_blank = [(i*j) for i,j in zip(blank,feature_im)]\n",
    "        \n",
    "        blank_result = sum(weigthed_blank)\n",
    "        blank_two_dimension.append(blank_result)\n",
    "    \n",
    "    # 계산된 값 새로운 컬럼으로 저장\n",
    "    new_df2['abs_sum'] = blank_two_dimension\n",
    "    new_df2.sort_values('abs_sum') # 정렬\n",
    "    \n",
    "    return new_df2"
   ]
  },
  {
   "cell_type": "code",
   "execution_count": 5,
   "id": "contemporary-filter",
   "metadata": {},
   "outputs": [],
   "source": [
    "# 모델 저장\n",
    "def outputfile(sheet1,output_file_name):     \n",
    "    sheet1.to_csv(output_file_name, encoding ='utf-8-sig')\n",
    "    print(\"\\n폴더에서\",output_file_name,\"파일을 확인하세요\")"
   ]
  },
  {
   "cell_type": "markdown",
   "id": "collect-queens",
   "metadata": {},
   "source": [
    "##  특성이 일치하는 PART출력"
   ]
  },
  {
   "cell_type": "code",
   "execution_count": 6,
   "id": "informational-medium",
   "metadata": {},
   "outputs": [],
   "source": [
    "# model select\n",
    "def main():\n",
    "    \n",
    "    data, dummy_list, x_val, y_val, id_val, predic_period, id_name = read_data_info (read_data_file, read_col_info_file, read_model_info_file)\n",
    "    X_df, y_df, new_df2, test, dummies_col_list,id_list = make_datasample (data, dummy_list, x_val, y_val, id_val, id_name)\n",
    "    \n",
    "    clust = make_distance_df(test, new_df2, X_df ,y_df, dummies_col_list, id_list, id_val) # 중요도에 따른 거리분포 작성\n",
    "    \n",
    "    same_feature = clust['abs_sum'] == clust['abs_sum'].min() # 값 일치하는 것 출력 : 딱 일치하는 것이 없을 가능성 고려 최솟값으로 출력\n",
    "    print(clust[same_feature]) # 결과\n",
    "    outputfile(clust[same_feature], output_file_name) # 파일 저장"
   ]
  },
  {
   "cell_type": "code",
   "execution_count": 7,
   "id": "another-damages",
   "metadata": {
    "scrolled": true
   },
   "outputs": [
    {
     "name": "stderr",
     "output_type": "stream",
     "text": [
      "C:\\Users\\chdus\\anaconda3\\lib\\site-packages\\IPython\\core\\interactiveshell.py:3427: DtypeWarning: Columns (2,5,6,9) have mixed types.Specify dtype option on import or set low_memory=False.\n",
      "  exec(code_obj, self.user_global_ns, self.user_ns)\n",
      "<ipython-input-4-06c3c5542a3b>:32: DataConversionWarning: A column-vector y was passed when a 1d array was expected. Please change the shape of y to (n_samples,), for example using ravel().\n",
      "  RFR.fit(X_df ,y_df )\n"
     ]
    },
    {
     "name": "stdout",
     "output_type": "stream",
     "text": [
      "       PRJ_ID DATA_TYPE     PART MONTH_NO MONTH YEAR   QTY  FEATURE_3  \\\n",
      "344   DAESANG        TD  1008082   15-Jan   Jan   15  4578  330130100   \n",
      "607   DAESANG        TD  1014561   15-Jan   Jan   15    93  330130100   \n",
      "608   DAESANG        TD  1013188   15-Jan   Jan   15   400  330130110   \n",
      "714   DAESANG        TD  1015046   17-Jun   Jun   17   222  222140120   \n",
      "877   DAESANG        TD  1016030   15-Jun   Jun   15    30  330110110   \n",
      "...       ...       ...      ...      ...   ...  ...   ...        ...   \n",
      "4804  DAESANG        RD  2026369   20-Mar   Mar   20   NaN  997680140   \n",
      "4805  DAESANG        RD  2026374   20-Mar   Mar   20   NaN  997680140   \n",
      "4806  DAESANG        RD  2026375   20-Feb   Feb   20   NaN  997680140   \n",
      "4807  DAESANG        RD  2026376   20-Mar   Mar   20   NaN  997680140   \n",
      "4808  DAESANG        RD  2026377   20-Mar   Mar   20   NaN  997680140   \n",
      "\n",
      "      FEATURE_1_냉동  FEATURE_1_냉장  ...  FEATURE_1_전분당:포장  FEATURE_2_B2B  \\\n",
      "344              1             0  ...                 0              1   \n",
      "607              1             0  ...                 0              1   \n",
      "608              1             0  ...                 0              1   \n",
      "714              1             0  ...                 0              1   \n",
      "877              1             0  ...                 0              1   \n",
      "...            ...           ...  ...               ...            ...   \n",
      "4804             1             0  ...                 0              1   \n",
      "4805             1             0  ...                 0              1   \n",
      "4806             1             0  ...                 0              1   \n",
      "4807             1             0  ...                 0              1   \n",
      "4808             1             0  ...                 0              1   \n",
      "\n",
      "      FEATURE_2_B2C  FEATURE_2_미지정  FEATURE_4_O  FEATURE_4_X  FEATURE_5_A  \\\n",
      "344               0              0            0            1            0   \n",
      "607               0              0            0            1            0   \n",
      "608               0              0            0            1            0   \n",
      "714               0              0            0            1            0   \n",
      "877               0              0            0            1            0   \n",
      "...             ...            ...          ...          ...          ...   \n",
      "4804              0              0            0            1            0   \n",
      "4805              0              0            0            1            0   \n",
      "4806              0              0            0            1            0   \n",
      "4807              0              0            0            1            0   \n",
      "4808              0              0            0            1            0   \n",
      "\n",
      "      FEATURE_5_B  FEATURE_5_C  abs_sum  \n",
      "344             0            1      0.0  \n",
      "607             0            1      0.0  \n",
      "608             0            1      0.0  \n",
      "714             0            1      0.0  \n",
      "877             0            1      0.0  \n",
      "...           ...          ...      ...  \n",
      "4804            0            1      0.0  \n",
      "4805            0            1      0.0  \n",
      "4806            0            1      0.0  \n",
      "4807            0            1      0.0  \n",
      "4808            0            1      0.0  \n",
      "\n",
      "[440 rows x 21 columns]\n",
      "\n",
      "폴더에서 output_유사도분석(거리계산).csv 파일을 확인하세요\n"
     ]
    }
   ],
   "source": [
    "if __name__ == \"__main__\":  \n",
    "    output_file_name = 'output_유사도분석(거리계산).csv'\n",
    "    main()"
   ]
  },
  {
   "cell_type": "code",
   "execution_count": null,
   "id": "strange-celebrity",
   "metadata": {},
   "outputs": [],
   "source": []
  },
  {
   "cell_type": "code",
   "execution_count": null,
   "id": "cutting-archives",
   "metadata": {},
   "outputs": [],
   "source": []
  }
 ],
 "metadata": {
  "kernelspec": {
   "display_name": "Python 3",
   "language": "python",
   "name": "python3"
  },
  "language_info": {
   "codemirror_mode": {
    "name": "ipython",
    "version": 3
   },
   "file_extension": ".py",
   "mimetype": "text/x-python",
   "name": "python",
   "nbconvert_exporter": "python",
   "pygments_lexer": "ipython3",
   "version": "3.8.5"
  }
 },
 "nbformat": 4,
 "nbformat_minor": 5
}
